{
 "cells": [
  {
   "cell_type": "markdown",
   "metadata": {},
   "source": [
    "# Algorithms, Binary Search & Linked Lists"
   ]
  },
  {
   "cell_type": "markdown",
   "metadata": {},
   "source": [
    "## Tasks Today:\n",
    " \n",
    "1) <b>In-Place Algorithms</b> <br>\n",
    " &nbsp;&nbsp;&nbsp;&nbsp; a) Syntax <br>\n",
    " &nbsp;&nbsp;&nbsp;&nbsp; a) Out of Place Algorithm <br>\n",
    " &nbsp;&nbsp;&nbsp;&nbsp; b) In-Class Exercise #1 <br>\n",
    "2) <b>Two Pointers</b> <br>\n",
    "3) <b>Linked Lists</b> <br>\n",
    "4) <b>Merge Sort</b> <br>\n",
    " &nbsp;&nbsp;&nbsp;&nbsp; a) Video on Algorithms <br>\n",
    " &nbsp;&nbsp;&nbsp;&nbsp; b) How it Works <br>\n",
    "5) <b>Exercises</b> <br>\n",
    " &nbsp;&nbsp;&nbsp;&nbsp; a) Exercise #1 - Reverse a List in Place Using an In-Place Algorithm <br>\n",
    " &nbsp;&nbsp;&nbsp;&nbsp; b) Exercise #2 - Find Distinct Words <br>\n",
    " &nbsp;&nbsp;&nbsp;&nbsp; c) Exercise #3 - Write a program to implement a Linear Search Algorithm. <br>"
   ]
  },
  {
   "cell_type": "markdown",
   "metadata": {},
   "source": [
    "## In-Place Algorithms"
   ]
  },
  {
   "cell_type": "markdown",
   "metadata": {},
   "source": [
    "#### Syntax"
   ]
  },
  {
   "cell_type": "code",
   "execution_count": 38,
   "metadata": {},
   "outputs": [
    {
     "name": "stdout",
     "output_type": "stream",
     "text": [
      "4\n",
      "[1, 3, 4, 8, 9]\n",
      "nums[left_point] = 1 nums[right_point] = 9\n",
      "[9, 8, 4, 3, 1]\n",
      "[8, 9, 4, 3, 1]\n"
     ]
    }
   ],
   "source": [
    "nums = [1, 4, 3, 9, 8]\n",
    "print(nums[1])\n",
    "\n",
    "nums.sort()\n",
    "print(nums)\n",
    "\n",
    "def reverse_in_place(nums):\n",
    "    left_point = 0\n",
    "    right_point = len(nums) - 1\n",
    "    print(f'{nums[left_point] = } {nums[right_point] = }')\n",
    "    while left_point < right_point:\n",
    "        nums[left_point], nums[right_point] = nums[right_point], nums[left_point]\n",
    "        left_point +=1\n",
    "        right_point -= 1\n",
    "        \n",
    "    \n",
    "reverse_in_place(nums)\n",
    "print(nums)\n",
    "    \n",
    "def swap_element(alist, i_one, i_two):\n",
    "    alist[i_one], alist[i_two] = alist[i_two], alist[i_one]\n",
    "    \n",
    "swap_element(nums, 0, 1)\n",
    "print(nums)"
   ]
  },
  {
   "cell_type": "markdown",
   "metadata": {},
   "source": [
    "#### Out of Place Algorithm"
   ]
  },
  {
   "cell_type": "code",
   "execution_count": 21,
   "metadata": {},
   "outputs": [
    {
     "name": "stdout",
     "output_type": "stream",
     "text": [
      "[9, 2, 1, 3, 0, 2, 10]\n",
      "[0, 1, 2, 2, 3, 9, 10]\n",
      "[2, 9, 1, 3, 0, 2, 10]\n",
      "[9, 2, 1, 3, 0, 2, 10]\n"
     ]
    }
   ],
   "source": [
    "nums2 = [9,2,1,3,0,2,10]\n",
    "\n",
    "sorted_num2 = sorted(nums2)\n",
    "\n",
    "print(nums2)\n",
    "print(sorted_num2)\n",
    "\n",
    "def swap_elements_copy(alist, i_one, i_two):\n",
    "    alist_copy = alist[:]\n",
    "    \n",
    "    alist_copy[i_one], alist_copy[i_two] = alist_copy[i_two], alist_copy[i_one]\n",
    "    return alist_copy\n",
    "\n",
    "print(swap_elements_copy(nums2, 0, 1))\n",
    "print(nums2)"
   ]
  },
  {
   "cell_type": "markdown",
   "metadata": {},
   "source": [
    "#### In-Class Exercise #1 <br>\n",
    "<p>Write a function that takes in four arguments (list, index1, index2, index3), and swaps those three positions in the list passed in.</p>"
   ]
  },
  {
   "cell_type": "code",
   "execution_count": 26,
   "metadata": {},
   "outputs": [
    {
     "name": "stdout",
     "output_type": "stream",
     "text": [
      "[10, 4, 3, 8, 4, 2, 6]\n",
      "[10, 3, 8, 4, 4, 2, 6]\n"
     ]
    }
   ],
   "source": [
    "l_1 = [10, 4, 3, 8, 4, 2, 6]\n",
    "print(l_1)\n",
    "def swap_3_elements(alist, i_one, i_two, i_three):\n",
    "    alist[i_one], alist[i_two], alist[i_three] = alist[i_two], alist[i_three], alist[i_one]\n",
    "\n",
    "swap_3_elements(l_1, 1,2,3)\n",
    "print(l_1)\n",
    "    "
   ]
  },
  {
   "cell_type": "markdown",
   "metadata": {},
   "source": [
    "## Two Pointers"
   ]
  },
  {
   "cell_type": "markdown",
   "metadata": {},
   "source": [
    "#### Syntax"
   ]
  },
  {
   "cell_type": "code",
   "execution_count": 29,
   "metadata": {},
   "outputs": [
    {
     "name": "stdout",
     "output_type": "stream",
     "text": [
      "False\n"
     ]
    }
   ],
   "source": [
    "'racecar' \n",
    "\n",
    "def check_palindrome(astring):\n",
    "    left_point, right_point = 0, len(astring) - 1\n",
    "    \n",
    "    while left_point < right_point:\n",
    "        if astring[left_point] != astring[right_point]:\n",
    "            return False\n",
    "        else:\n",
    "            left_point += 1\n",
    "            right_point -=1\n",
    "    return True\n",
    "print(check_palindrome('racecar'))"
   ]
  },
  {
   "cell_type": "markdown",
   "metadata": {},
   "source": [
    "#### Video of Algorithms <br>\n",
    "<p>Watch the video about algorithms.</p>\n",
    "\n",
    "https://www.youtube.com/watch?v=Q9HjeFD62Uk\n",
    "\n",
    "https://www.youtube.com/watch?v=kPRA0W1kECg\n",
    "\n",
    "https://www.youtube.com/watch?v=ZZuD6iUe3Pc"
   ]
  },
  {
   "cell_type": "markdown",
   "metadata": {},
   "source": [
    "# Sorting Algorithms"
   ]
  },
  {
   "cell_type": "markdown",
   "metadata": {},
   "source": [
    "#### Bubble Sort\n",
    "\n",
    "Worst Case: O(n^2) Time - O(1) Space"
   ]
  },
  {
   "cell_type": "code",
   "execution_count": 46,
   "metadata": {},
   "outputs": [
    {
     "name": "stdout",
     "output_type": "stream",
     "text": [
      "[1, 33, 77, 88, 99]\n"
     ]
    }
   ],
   "source": [
    "nums = [88,77,33,1,99]\n",
    "\n",
    "def bubble_sort(nums):\n",
    "    is_sorted = False\n",
    "    while not is_sorted:\n",
    "        is_sorted = True\n",
    "        pass_through = 1\n",
    "        for i in range(len(nums) - pass_through):\n",
    "            if nums[i] > nums[i+1]:\n",
    "                nums[i], nums[i+1] = nums[i+1], nums[i]\n",
    "                is_sorted = False\n",
    "        pass_through += 1\n",
    "bubble_sort(nums)\n",
    "print(nums)"
   ]
  },
  {
   "cell_type": "markdown",
   "metadata": {},
   "source": [
    "##### Insertion Sort\n",
    "\n",
    "Worst Case: O(n^2) time - O(1)space"
   ]
  },
  {
   "cell_type": "code",
   "execution_count": 44,
   "metadata": {},
   "outputs": [
    {
     "name": "stdout",
     "output_type": "stream",
     "text": [
      "[1, 33, 77, 88, 99]\n"
     ]
    }
   ],
   "source": [
    "nums = [88,77,33,1,99]\n",
    "\n",
    "def insertion_sort(nums):\n",
    "    for i in range(1, len(nums)):\n",
    "        current_value = nums[i]\n",
    "        while i > 0 and current_value < nums[i-1]:\n",
    "            nums[i] = nums[i - 1]\n",
    "            i -= 1\n",
    "        nums[i] = current_value\n",
    "        \n",
    "        \n",
    "insertion_sort(nums)\n",
    "print(nums)        \n",
    "            "
   ]
  },
  {
   "cell_type": "markdown",
   "metadata": {},
   "source": [
    "## Merge Sort"
   ]
  },
  {
   "cell_type": "markdown",
   "metadata": {},
   "source": [
    "#### How it Works"
   ]
  },
  {
   "cell_type": "code",
   "execution_count": 52,
   "metadata": {},
   "outputs": [
    {
     "name": "stdout",
     "output_type": "stream",
     "text": [
      "[11, 33, 44, 77, 88]\n"
     ]
    }
   ],
   "source": [
    "nums = [88,77,44,33,11]\n",
    "\n",
    "def merge_sort(nums):\n",
    "    \n",
    "    middle = len(nums) // 2\n",
    "    left_half, right_half = nums[:middle], nums[middle:]\n",
    "    if len(nums) > 1:\n",
    "        merge_sort(left_half)\n",
    "        merge_sort(right_half)\n",
    "        \n",
    "    left_point, right_point, current_point = 0, 0, 0\n",
    "    \n",
    "    while left_point < len(left_half) and right_point < len(right_half):\n",
    "        if left_half[left_point] < right_half[right_point]:\n",
    "            nums[current_point] = left_half[left_point]\n",
    "            left_point += 1\n",
    "            current_point += 1\n",
    "        else:\n",
    "            nums[current_point] = right_half[right_point]\n",
    "            right_point += 1\n",
    "            \n",
    "        current_point += 1\n",
    "    \n",
    "    while left_point < len(left_half):\n",
    "        nums[current_point] = left_half[left_point]\n",
    "        left_point += 1\n",
    "        current_point += 1\n",
    "    \n",
    "    while right_point < len(right_half):\n",
    "        nums[current_point] = right_half[right_point]\n",
    "        right_point += 1\n",
    "        current_point += 1\n",
    "        \n",
    "merge_sort(nums)\n",
    "\n",
    "print(nums)\n",
    "            \n",
    "        "
   ]
  },
  {
   "cell_type": "markdown",
   "metadata": {},
   "source": [
    "# Binary Search\n",
    "\n",
    "The Binary Search algorithm works by finding the number in the middle of a given array and comparing it to the target. Given that the array is sorted\n",
    "\n",
    "* The worst case run time for this algorithm is `O(log(n))`"
   ]
  },
  {
   "cell_type": "code",
   "execution_count": null,
   "metadata": {},
   "outputs": [],
   "source": []
  },
  {
   "cell_type": "markdown",
   "metadata": {},
   "source": [
    "# Exercises"
   ]
  },
  {
   "cell_type": "markdown",
   "metadata": {},
   "source": [
    "### Exercise #1 <br>\n",
    "<p>Reverse the list below in-place using an in-place algorithm.<br>For extra credit: Reverse the strings at the same time.</p>"
   ]
  },
  {
   "cell_type": "code",
   "execution_count": 67,
   "metadata": {},
   "outputs": [
    {
     "name": "stdout",
     "output_type": "stream",
     "text": [
      "['.', 'ecnetnes', 'a', 'si', 'siht']\n"
     ]
    }
   ],
   "source": [
    "words = ['this' , 'is', 'a', 'sentence', '.']\n",
    "\n",
    "def reverse_words(alist):\n",
    "    left_point = 0\n",
    "    right_point = len(alist) - 1\n",
    "    \n",
    "    for i in range(0,len(alist)):\n",
    "        alist[i] = alist[i][::-1]\n",
    "\n",
    "    while left_point < right_point:\n",
    "        alist[left_point], alist[right_point] = alist[right_point],alist[left_point]\n",
    "        left_point +=1\n",
    "        right_point -= 1\n",
    "            \n",
    "    \n",
    "reverse_words(words)\n",
    "print(words)\n"
   ]
  },
  {
   "cell_type": "markdown",
   "metadata": {},
   "source": [
    "### Exercise #2 <br>\n",
    "<p>Create a function that counts how many distinct words are in the string below, then outputs a dictionary with the words as the key and the value as the amount of times that word appears in the string.<br>Should output:<br>{'a': 5,<br>\n",
    " 'abstract': 1,<br>\n",
    " 'an': 3,<br>\n",
    " 'array': 2, ... etc...</p>"
   ]
  },
  {
   "cell_type": "code",
   "execution_count": 90,
   "metadata": {},
   "outputs": [
    {
     "name": "stdout",
     "output_type": "stream",
     "text": [
      "in : 1\n",
      "computing, : 1\n",
      "a : 5\n",
      "hash : 4\n",
      "table : 2\n",
      "map : 2\n",
      "is : 1\n",
      "data : 2\n",
      "structure : 2\n",
      "which : 2\n",
      "implements : 1\n",
      "an : 3\n",
      "associative : 1\n",
      "array : 2\n",
      "abstract : 1\n",
      "type, : 1\n",
      "that : 1\n",
      "can : 2\n",
      "keys : 1\n",
      "to : 2\n",
      "values. : 1\n",
      "uses : 1\n",
      "function : 1\n",
      "compute : 1\n",
      "index : 1\n",
      "into : 1\n",
      "of : 1\n",
      "buckets : 1\n",
      "or : 1\n",
      "slots : 1\n",
      "from : 1\n",
      "the : 1\n",
      "desired : 1\n",
      "value : 1\n",
      "be : 1\n",
      "found : 1\n"
     ]
    }
   ],
   "source": [
    "a_text = 'In computing, a hash table hash map is a data structure which implements an associative array abstract data type, a structure that can map keys to values. A hash table uses a hash function to compute an index into an array of buckets or slots from which the desired value can be found'\n",
    "\n",
    "def count_words(astring):\n",
    "    alist = astring.split()\n",
    "    output ={}\n",
    "    for w in alist:\n",
    "        if w.lower() in output:\n",
    "            output[w.lower()] = output[w.lower()] + 1\n",
    "        else:\n",
    "            output[w.lower()] = 1\n",
    "        \n",
    "    return output\n",
    "\n",
    "for k,v in count_words(a_text).items():\n",
    "    print(f'{k} : {v}')\n",
    "        \n",
    "        \n"
   ]
  },
  {
   "cell_type": "markdown",
   "metadata": {},
   "source": [
    "## Exercise #3\n",
    "\n",
    "Write a program to implement a Linear Search Algorithm. Also in a comment, write the Time Complexity of the following algorithm.\n",
    "\n",
    "#### Hint: Linear Searching will require searching a list for a given number. "
   ]
  },
  {
   "cell_type": "code",
   "execution_count": 72,
   "metadata": {},
   "outputs": [
    {
     "name": "stdout",
     "output_type": "stream",
     "text": [
      "False\n",
      "True\n"
     ]
    }
   ],
   "source": [
    "def find_needle(alist, num):\n",
    "    for i in range(0, len(alist)):\n",
    "        if num == alist[i]:\n",
    "            return True\n",
    "    return False\n",
    "\n",
    "print(find_needle([122,32,1,2], 31))\n",
    "print(find_needle([122,32,1,2], 2))"
   ]
  },
  {
   "cell_type": "code",
   "execution_count": null,
   "metadata": {},
   "outputs": [],
   "source": []
  }
 ],
 "metadata": {
  "kernelspec": {
   "display_name": "Python 3 (ipykernel)",
   "language": "python",
   "name": "python3"
  },
  "language_info": {
   "codemirror_mode": {
    "name": "ipython",
    "version": 3
   },
   "file_extension": ".py",
   "mimetype": "text/x-python",
   "name": "python",
   "nbconvert_exporter": "python",
   "pygments_lexer": "ipython3",
   "version": "3.11.5"
  }
 },
 "nbformat": 4,
 "nbformat_minor": 2
}
